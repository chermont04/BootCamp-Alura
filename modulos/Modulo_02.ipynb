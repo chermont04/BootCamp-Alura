{
 "cells": [
  {
   "cell_type": "markdown",
   "metadata": {},
   "source": [
    "# BootCamp Data Science Aplicada - Alura\n",
    "\n",
    "   #### Felipe Chermont Pereira"
   ]
  },
  {
   "cell_type": "markdown",
   "metadata": {},
   "source": [
    "## *Módulo 02* - Visualizaão de Dados com Seaborn e Matplotlib"
   ]
  },
  {
   "cell_type": "markdown",
   "metadata": {},
   "source": [
    "### *Aula 01* - Fontes externas, limpeza e manipulação de dados"
   ]
  },
  {
   "cell_type": "markdown",
   "metadata": {},
   "source": [
    "Para esta aula, continuaremos a trabalhar com a fonte de dados utilizada no módulo anterior"
   ]
  },
  {
   "cell_type": "code",
   "execution_count": 1,
   "metadata": {},
   "outputs": [],
   "source": [
    "#importando as bibliotecas\n",
    "import pandas as pd\n",
    "import numpy as np\n",
    "import matplotlib.pyplot as plt\n",
    "import matplotlib.ticker as ticker\n",
    "from io import StringIO\n",
    "import seaborn as sns\n",
    "from datetime import date\n",
    "\n",
    "# bibliotecas utilizadas na parte de web scraping\n",
    "import requests\n",
    "from bs4 import BeautifulSoup"
   ]
  },
  {
   "cell_type": "markdown",
   "metadata": {},
   "source": [
    "Vamos realizar a leitura dos dados, fazendo uma requisição http"
   ]
  },
  {
   "cell_type": "code",
   "execution_count": 4,
   "metadata": {},
   "outputs": [
    {
     "data": {
      "text/html": [
       "<div>\n",
       "<style scoped>\n",
       "    .dataframe tbody tr th:only-of-type {\n",
       "        vertical-align: middle;\n",
       "    }\n",
       "\n",
       "    .dataframe tbody tr th {\n",
       "        vertical-align: top;\n",
       "    }\n",
       "\n",
       "    .dataframe thead th {\n",
       "        text-align: right;\n",
       "    }\n",
       "</style>\n",
       "<table border=\"1\" class=\"dataframe\">\n",
       "  <thead>\n",
       "    <tr style=\"text-align: right;\">\n",
       "      <th></th>\n",
       "      <th>Unidade da Federação</th>\n",
       "      <th>1992/Mar</th>\n",
       "      <th>1992/Abr</th>\n",
       "      <th>1993/Mai</th>\n",
       "      <th>1993/Dez</th>\n",
       "      <th>1994/Jan</th>\n",
       "      <th>1994/Fev</th>\n",
       "      <th>1994/Mai</th>\n",
       "      <th>1994/Ago</th>\n",
       "      <th>1994/Nov</th>\n",
       "      <th>...</th>\n",
       "      <th>2019/Dez</th>\n",
       "      <th>2020/Jan</th>\n",
       "      <th>2020/Fev</th>\n",
       "      <th>2020/Mar</th>\n",
       "      <th>2020/Abr</th>\n",
       "      <th>2020/Mai</th>\n",
       "      <th>2020/Jun</th>\n",
       "      <th>2020/Jul</th>\n",
       "      <th>2020/Ago</th>\n",
       "      <th>Total</th>\n",
       "    </tr>\n",
       "  </thead>\n",
       "  <tbody>\n",
       "    <tr>\n",
       "      <th>0</th>\n",
       "      <td>11 Rondônia</td>\n",
       "      <td>-</td>\n",
       "      <td>-</td>\n",
       "      <td>-</td>\n",
       "      <td>-</td>\n",
       "      <td>-</td>\n",
       "      <td>-</td>\n",
       "      <td>-</td>\n",
       "      <td>-</td>\n",
       "      <td>-</td>\n",
       "      <td>...</td>\n",
       "      <td>8660753.05</td>\n",
       "      <td>8326416.32</td>\n",
       "      <td>8413784.42</td>\n",
       "      <td>7174312.31</td>\n",
       "      <td>7423678.64</td>\n",
       "      <td>8581195.13</td>\n",
       "      <td>9193593.76</td>\n",
       "      <td>7407388.24</td>\n",
       "      <td>3556381.57</td>\n",
       "      <td>9.291297e+08</td>\n",
       "    </tr>\n",
       "    <tr>\n",
       "      <th>1</th>\n",
       "      <td>12 Acre</td>\n",
       "      <td>-</td>\n",
       "      <td>-</td>\n",
       "      <td>-</td>\n",
       "      <td>-</td>\n",
       "      <td>-</td>\n",
       "      <td>-</td>\n",
       "      <td>-</td>\n",
       "      <td>-</td>\n",
       "      <td>-</td>\n",
       "      <td>...</td>\n",
       "      <td>2959569.09</td>\n",
       "      <td>3261123.88</td>\n",
       "      <td>2981264.22</td>\n",
       "      <td>2859102.06</td>\n",
       "      <td>2472063.08</td>\n",
       "      <td>2383895.48</td>\n",
       "      <td>2199920.70</td>\n",
       "      <td>1163813.08</td>\n",
       "      <td>-</td>\n",
       "      <td>4.206680e+08</td>\n",
       "    </tr>\n",
       "    <tr>\n",
       "      <th>2</th>\n",
       "      <td>13 Amazonas</td>\n",
       "      <td>-</td>\n",
       "      <td>-</td>\n",
       "      <td>-</td>\n",
       "      <td>-</td>\n",
       "      <td>-</td>\n",
       "      <td>-</td>\n",
       "      <td>-</td>\n",
       "      <td>-</td>\n",
       "      <td>-</td>\n",
       "      <td>...</td>\n",
       "      <td>14923380.22</td>\n",
       "      <td>15939561.23</td>\n",
       "      <td>15138110.70</td>\n",
       "      <td>14773739.41</td>\n",
       "      <td>16330913.81</td>\n",
       "      <td>19441150.53</td>\n",
       "      <td>17509334.66</td>\n",
       "      <td>13358514.02</td>\n",
       "      <td>4726485.73</td>\n",
       "      <td>1.771655e+09</td>\n",
       "    </tr>\n",
       "    <tr>\n",
       "      <th>3</th>\n",
       "      <td>14 Roraima</td>\n",
       "      <td>-</td>\n",
       "      <td>-</td>\n",
       "      <td>-</td>\n",
       "      <td>-</td>\n",
       "      <td>-</td>\n",
       "      <td>-</td>\n",
       "      <td>-</td>\n",
       "      <td>-</td>\n",
       "      <td>-</td>\n",
       "      <td>...</td>\n",
       "      <td>2889969.87</td>\n",
       "      <td>3084561.08</td>\n",
       "      <td>2967159.04</td>\n",
       "      <td>2813954.05</td>\n",
       "      <td>2304961.42</td>\n",
       "      <td>2910776.44</td>\n",
       "      <td>3216466.51</td>\n",
       "      <td>2739498.41</td>\n",
       "      <td>1524478.04</td>\n",
       "      <td>3.050109e+08</td>\n",
       "    </tr>\n",
       "    <tr>\n",
       "      <th>4</th>\n",
       "      <td>15 Pará</td>\n",
       "      <td>-</td>\n",
       "      <td>-</td>\n",
       "      <td>-</td>\n",
       "      <td>-</td>\n",
       "      <td>-</td>\n",
       "      <td>-</td>\n",
       "      <td>-</td>\n",
       "      <td>-</td>\n",
       "      <td>-</td>\n",
       "      <td>...</td>\n",
       "      <td>35222625.80</td>\n",
       "      <td>37009819.17</td>\n",
       "      <td>34635702.52</td>\n",
       "      <td>34749098.46</td>\n",
       "      <td>28714969.96</td>\n",
       "      <td>41248502.78</td>\n",
       "      <td>35396030.78</td>\n",
       "      <td>27618727.51</td>\n",
       "      <td>11559714.54</td>\n",
       "      <td>4.437116e+09</td>\n",
       "    </tr>\n",
       "  </tbody>\n",
       "</table>\n",
       "<p>5 rows × 280 columns</p>\n",
       "</div>"
      ],
      "text/plain": [
       "  Unidade da Federação 1992/Mar 1992/Abr 1993/Mai 1993/Dez 1994/Jan 1994/Fev  \\\n",
       "0          11 Rondônia        -        -        -        -        -        -   \n",
       "1              12 Acre        -        -        -        -        -        -   \n",
       "2          13 Amazonas        -        -        -        -        -        -   \n",
       "3           14 Roraima        -        -        -        -        -        -   \n",
       "4              15 Pará        -        -        -        -        -        -   \n",
       "\n",
       "  1994/Mai 1994/Ago 1994/Nov  ...     2019/Dez     2020/Jan     2020/Fev  \\\n",
       "0        -        -        -  ...   8660753.05   8326416.32   8413784.42   \n",
       "1        -        -        -  ...   2959569.09   3261123.88   2981264.22   \n",
       "2        -        -        -  ...  14923380.22  15939561.23  15138110.70   \n",
       "3        -        -        -  ...   2889969.87   3084561.08   2967159.04   \n",
       "4        -        -        -  ...  35222625.80  37009819.17  34635702.52   \n",
       "\n",
       "      2020/Mar     2020/Abr     2020/Mai     2020/Jun     2020/Jul  \\\n",
       "0   7174312.31   7423678.64   8581195.13   9193593.76   7407388.24   \n",
       "1   2859102.06   2472063.08   2383895.48   2199920.70   1163813.08   \n",
       "2  14773739.41  16330913.81  19441150.53  17509334.66  13358514.02   \n",
       "3   2813954.05   2304961.42   2910776.44   3216466.51   2739498.41   \n",
       "4  34749098.46  28714969.96  41248502.78  35396030.78  27618727.51   \n",
       "\n",
       "      2020/Ago         Total  \n",
       "0   3556381.57  9.291297e+08  \n",
       "1            -  4.206680e+08  \n",
       "2   4726485.73  1.771655e+09  \n",
       "3   1524478.04  3.050109e+08  \n",
       "4  11559714.54  4.437116e+09  \n",
       "\n",
       "[5 rows x 280 columns]"
      ]
     },
     "execution_count": 4,
     "metadata": {},
     "output_type": "execute_result"
    }
   ],
   "source": [
    "dados = pd.read_csv(\"https://raw.githubusercontent.com/chermont04/BootCamp-Alura/main/dados/A160324189_28_143_208.csv\",\n",
    "                   encoding = \"ISO-8859-1\",\n",
    "                   skiprows = 3,\n",
    "                   sep = \";\",\n",
    "                   skipfooter = 12,\n",
    "                   thousands = \".\",\n",
    "                   decimal = \",\",\n",
    "                   engine = \"python\")\n",
    "dados.head()"
   ]
  },
  {
   "cell_type": "markdown",
   "metadata": {},
   "source": [
    "Para inicio deste módulo, precisamos pegar algumas análises realizadas no módulo passado, caso tenha alguma dúvida ou dificuldade para entendimento, todos os passos foram detalhados no [Modulo 1](https://github.com/chermont04/BootCamp-Alura/blob/main/modulos/Modulo_01.ipynb)."
   ]
  },
  {
   "cell_type": "code",
   "execution_count": 27,
   "metadata": {},
   "outputs": [],
   "source": [
    "pd.options.display.float_format = \"{:.2f}\".format #Retirando a notação científica\n",
    "\n",
    "# Pegamos apenas os anos usaveis\n",
    "colunas_usaveis = dados.mean().index.tolist()\n",
    "\n",
    "# adicionamos o indice 0 como \"Unidade da Federação\"\n",
    "colunas_usaveis.insert(0, \"Unidade da Federação\")\n",
    "\n",
    "# Setar o index como Unidade da Federação em uma nova base usaveis\n",
    "usaveis = dados[colunas_usaveis]\n",
    "usaveis = usaveis.set_index(\"Unidade da Federação\")\n",
    "\n",
    "# Vamos ordenar as clunas pelo Total\n",
    "ordenado_total = usaveis.sort_values('Total', ascending=False)\n",
    "\n",
    "# Agora podemos dropar a coluna Total\n",
    "ordenado_total = ordenado_total.drop('Total', axis = 1)\n",
    "# Divindo por 1 milhão para reduzir a escala gráfica\n",
    "ordenado_total = ordenado_total/1000000\n",
    "# Filtrar os meses\n",
    "meses_filtrados = ordenado_total.columns[47:150]\n",
    "# Analisra o mes mais recente\n",
    "mes_mais_recente = ordenado_total.columns[-1]\n",
    "gastos_do_mais_recente = ordenado_total[mes_mais_recente]\n",
    "gastos_do_mais_recente = gastos_do_mais_recente.sort_values(ascending = False)"
   ]
  },
  {
   "cell_type": "code",
   "execution_count": 28,
   "metadata": {},
   "outputs": [
    {
     "data": {
      "text/plain": [
       "<matplotlib.axes._subplots.AxesSubplot at 0x7f33e4b315b0>"
      ]
     },
     "execution_count": 28,
     "metadata": {},
     "output_type": "execute_result"
    },
    {
     "data": {
      "image/png": "[encoded data removed]",
      "text/plain": [
       "<Figure size 432x288 with 1 Axes>"
      ]
     },
     "metadata": {
      "needs_background": "light"
     },
     "output_type": "display_data"
    }
   ],
   "source": [
    "gastos_do_mais_recente.plot(kind='bar')"
   ]
  },
  {
   "cell_type": "markdown",
   "metadata": {},
   "source": [
    "Podemos apresentar o gráfico de gastos ordenados de forma proporcional."
   ]
  },
  {
   "cell_type": "code",
   "execution_count": 29,
   "metadata": {},
   "outputs": [
    {
     "data": {
      "text/plain": [
       "<matplotlib.axes._subplots.AxesSubplot at 0x7f33e4b2d7f0>"
      ]
     },
     "execution_count": 29,
     "metadata": {},
     "output_type": "execute_result"
    },
    {
     "data": {
      "image/png": "[encoded data removed]",
      "text/plain": [
       "<Figure size 432x288 with 1 Axes>"
      ]
     },
     "metadata": {
      "needs_background": "light"
     },
     "output_type": "display_data"
    }
   ],
   "source": [
    "gastos_proporcionais = gastos_do_mais_recente / gastos_do_mais_recente.sum()\n",
    "gastos_proporcionais.plot(kind = 'bar')"
   ]
  },
  {
   "cell_type": "markdown",
   "metadata": {},
   "source": [
    "para leitura dos dados em XLS, podemos utilizar o método read_excel() do pandas"
   ]
  },
  {
   "cell_type": "code",
   "execution_count": 30,
   "metadata": {},
   "outputs": [
    {
     "data": {
      "text/html": [
       "<div>\n",
       "<style scoped>\n",
       "    .dataframe tbody tr th:only-of-type {\n",
       "        vertical-align: middle;\n",
       "    }\n",
       "\n",
       "    .dataframe tbody tr th {\n",
       "        vertical-align: top;\n",
       "    }\n",
       "\n",
       "    .dataframe thead th {\n",
       "        text-align: right;\n",
       "    }\n",
       "</style>\n",
       "<table border=\"1\" class=\"dataframe\">\n",
       "  <thead>\n",
       "    <tr style=\"text-align: right;\">\n",
       "      <th></th>\n",
       "      <th>ESTIMATIVAS DA POPULAÇÃO RESIDENTE NO BRASIL E UNIDADES DA FEDERAÇÃO COM DATA DE REFERÊNCIA EM 1º DE JULHO DE 2020</th>\n",
       "      <th>Unnamed: 1</th>\n",
       "      <th>Unnamed: 2</th>\n",
       "    </tr>\n",
       "  </thead>\n",
       "  <tbody>\n",
       "    <tr>\n",
       "      <th>0</th>\n",
       "      <td>BRASIL E UNIDADES DA FEDERAÇÃO</td>\n",
       "      <td>nan</td>\n",
       "      <td>POPULAÇÃO ESTIMADA</td>\n",
       "    </tr>\n",
       "    <tr>\n",
       "      <th>1</th>\n",
       "      <td>Brasil</td>\n",
       "      <td>nan</td>\n",
       "      <td>211755692</td>\n",
       "    </tr>\n",
       "    <tr>\n",
       "      <th>2</th>\n",
       "      <td>Região Norte</td>\n",
       "      <td>nan</td>\n",
       "      <td>18672591</td>\n",
       "    </tr>\n",
       "    <tr>\n",
       "      <th>3</th>\n",
       "      <td>Rondônia</td>\n",
       "      <td>nan</td>\n",
       "      <td>1796460</td>\n",
       "    </tr>\n",
       "    <tr>\n",
       "      <th>4</th>\n",
       "      <td>Acre</td>\n",
       "      <td>nan</td>\n",
       "      <td>894470</td>\n",
       "    </tr>\n",
       "  </tbody>\n",
       "</table>\n",
       "</div>"
      ],
      "text/plain": [
       "  ESTIMATIVAS DA POPULAÇÃO RESIDENTE NO BRASIL E UNIDADES DA FEDERAÇÃO COM DATA DE REFERÊNCIA EM 1º DE JULHO DE 2020  \\\n",
       "0                     BRASIL E UNIDADES DA FEDERAÇÃO                                                                   \n",
       "1                                             Brasil                                                                   \n",
       "2                                       Região Norte                                                                   \n",
       "3                                           Rondônia                                                                   \n",
       "4                                               Acre                                                                   \n",
       "\n",
       "   Unnamed: 1          Unnamed: 2  \n",
       "0         nan  POPULAÇÃO ESTIMADA  \n",
       "1         nan           211755692  \n",
       "2         nan            18672591  \n",
       "3         nan             1796460  \n",
       "4         nan              894470  "
      ]
     },
     "execution_count": 30,
     "metadata": {},
     "output_type": "execute_result"
    }
   ],
   "source": [
    "ibge_estimativa = pd.read_excel(\"https://github.com/chermont04/BootCamp-Alura/raw/main/dados/estimativa_dou_2020.xls\")\n",
    "ibge_estimativa.head()"
   ]
  },
  {
   "cell_type": "markdown",
   "metadata": {},
   "source": [
    "Muitas vezes, estes dados podem ser buscados de outra forma. iremos buscar estes mesmos dados pela tabela fornecida no [Wikipedia](https://pt.wikipedia.org/wiki/Lista_de_unidades_federativas_do_Brasil_por_popula%C3%A7%C3%A3o)"
   ]
  },
  {
   "cell_type": "code",
   "execution_count": 32,
   "metadata": {},
   "outputs": [],
   "source": [
    "dados_da_populacao = \"\"\"\n",
    "\n",
    "Posição\tUnidade federativa\tPopulação\t% da pop. total\tPaís comparável\n",
    "(habitantes)\n",
    "\n",
    "1\t São Paulo\t46 289 333\t21,9%\tFlag of Spain.svg Espanha (46 439 864)\n",
    "2\t Minas Gerais\t21 292 666\t10,1%\t Sri Lanka (20 675 000)\n",
    "3\t Rio de Janeiro\t17 366 189\t8,2%\t Países Baixos (16 922 900)\n",
    "4\tBahia Bahia\t14 930 634\t7,1%\t Chade (14 037 000)\n",
    "5\t Paraná\t11 516 840\t5,4%\t Bolívia (11 410 651)\n",
    "6\t Rio Grande do Sul\t11 422 973\t5,4%\t Bélgica (11 250 659)\n",
    "7\t Pernambuco\t9 616 621\t4,5%\t Bielorrússia (9 485 300)\n",
    "8\t Ceará\t9 187 103\t4,3%\t Emirados Árabes Unidos (9 157 000)\n",
    "9\tPará Pará\t8 690 745\t4,1%\t Áustria (8 602 112)\n",
    "10\t Santa Catarina\t7 252 502\t3,4%\t Sérvia (7 114 393)\n",
    "11\t Maranhão\t7 114 598\t3,4%\t Paraguai (7 003 406)\n",
    "12\t Goiás\t7 113 540\t3,4%\t Paraguai (7 003 406)\n",
    "13\t Amazonas\t4 207 714\t2,0%\t Líbano (4 168 000)\n",
    "14\t Espírito Santo\t4 064 052\t1,9%\t Líbano (4 168 000)\n",
    "15\t Paraíba\t4 039 277\t1,9%\t Líbano (4 168 000)\n",
    "16\t Rio Grande do Norte\t3 534 165\t1,7%\t Uruguai (3 415 866)\n",
    "17\t Mato Grosso\t3 526 220\t1,7%\t Uruguai (3 415 866)\n",
    "18\t Alagoas\t3 351 543\t1,6%\t Uruguai (3 415 866)\n",
    "19\t Piauí\t3 281 480\t1,6%\t Kuwait (3 268 431)\n",
    "20\t Distrito Federal\t3 055 149\t1,4%\t Lituânia (2 900 787)\n",
    "21\t Mato Grosso do Sul\t2 809 394\t1,3%\t Jamaica (2 717 991)\n",
    "22\t Sergipe\t2 318 822\t1,1%\t Namíbia (2 280 700)\n",
    "23\t Rondônia\t1 796 460\t0,8%\t Gabão (1 725 000)\n",
    "24\t Tocantins\t1 590 248\t0,7%\t Bahrein (1 359 800)\n",
    "25\t Acre\t894 470\t0,4%\t Fiji (859 178)\n",
    "26\t Amapá\t861 773\t0,4%\t Fiji (859 178)\n",
    "27\t Roraima\t631 181\t0,3%\t Luxemburgo (562 958)\n",
    "\n",
    "\"\"\"\n",
    "\n",
    "#fonte: https://pt.wikipedia.org/wiki/Lista_de_unidades_federativas_do_Brasil_por_popula%C3%A7%C3%A3o"
   ]
  },
  {
   "cell_type": "markdown",
   "metadata": {},
   "source": [
    "Utiliziremos a funçao de StringIO para transformar os dados da população em uma base de dados, para então realizarmos a leitura"
   ]
  },
  {
   "cell_type": "code",
   "execution_count": 47,
   "metadata": {},
   "outputs": [
    {
     "data": {
      "text/html": [
       "<div>\n",
       "<style scoped>\n",
       "    .dataframe tbody tr th:only-of-type {\n",
       "        vertical-align: middle;\n",
       "    }\n",
       "\n",
       "    .dataframe tbody tr th {\n",
       "        vertical-align: top;\n",
       "    }\n",
       "\n",
       "    .dataframe thead th {\n",
       "        text-align: right;\n",
       "    }\n",
       "</style>\n",
       "<table border=\"1\" class=\"dataframe\">\n",
       "  <thead>\n",
       "    <tr style=\"text-align: right;\">\n",
       "      <th></th>\n",
       "      <th>populacao</th>\n",
       "    </tr>\n",
       "    <tr>\n",
       "      <th>uf</th>\n",
       "      <th></th>\n",
       "    </tr>\n",
       "  </thead>\n",
       "  <tbody>\n",
       "    <tr>\n",
       "      <th>São Paulo</th>\n",
       "      <td>46289333</td>\n",
       "    </tr>\n",
       "    <tr>\n",
       "      <th>Minas Gerais</th>\n",
       "      <td>21292666</td>\n",
       "    </tr>\n",
       "    <tr>\n",
       "      <th>Rio de Janeiro</th>\n",
       "      <td>17366189</td>\n",
       "    </tr>\n",
       "    <tr>\n",
       "      <th>Bahia Bahia</th>\n",
       "      <td>14930634</td>\n",
       "    </tr>\n",
       "    <tr>\n",
       "      <th>Paraná</th>\n",
       "      <td>11516840</td>\n",
       "    </tr>\n",
       "  </tbody>\n",
       "</table>\n",
       "</div>"
      ],
      "text/plain": [
       "                 populacao\n",
       "uf                        \n",
       " São Paulo        46289333\n",
       " Minas Gerais     21292666\n",
       " Rio de Janeiro   17366189\n",
       "Bahia Bahia       14930634\n",
       " Paraná           11516840"
      ]
     },
     "metadata": {},
     "output_type": "display_data"
    },
    {
     "name": "stdout",
     "output_type": "stream",
     "text": [
      "<class 'pandas.core.frame.DataFrame'>\n",
      "Index: 27 entries,  São Paulo to  Roraima\n",
      "Data columns (total 1 columns):\n",
      " #   Column     Non-Null Count  Dtype\n",
      "---  ------     --------------  -----\n",
      " 0   populacao  27 non-null     int64\n",
      "dtypes: int64(1)\n",
      "memory usage: 432.0+ bytes\n"
     ]
    },
    {
     "data": {
      "text/plain": [
       "None"
      ]
     },
     "metadata": {},
     "output_type": "display_data"
    }
   ],
   "source": [
    "dados_da_populacao_io = StringIO(dados_da_populacao)\n",
    "\n",
    "populacao = pd.read_csv(dados_da_populacao_io, sep = \"\\t\")\n",
    "populacao = populacao.dropna()\n",
    "populacao[\"populacao\"] = populacao[\"População\"].str.replace(\" \", \"\").astype(int)\n",
    "populacao[\"uf\"] = populacao[\"Unidade federativa\"]\n",
    "populacao = populacao[[\"populacao\", \"uf\"]].set_index(\"uf\")\n",
    "display(populacao.head())\n",
    "display(populacao.info())"
   ]
  },
  {
   "cell_type": "markdown",
   "metadata": {},
   "source": [
    "Podemos utilizar o método .str para acessar strings de cada linha/coluna de nossa base de dados também"
   ]
  },
  {
   "cell_type": "code",
   "execution_count": 48,
   "metadata": {},
   "outputs": [
    {
     "data": {
      "text/plain": [
       "Index([' Sã', ' Mi', ' Ri', 'Bah', ' Pa', ' Ri', ' Pe', ' Ce', 'Par', ' Sa',\n",
       "       ' Ma', ' Go', ' Am', ' Es', ' Pa', ' Ri', ' Ma', ' Al', ' Pi', ' Di',\n",
       "       ' Ma', ' Se', ' Ro', ' To', ' Ac', ' Am', ' Ro'],\n",
       "      dtype='object', name='uf')"
      ]
     },
     "execution_count": 48,
     "metadata": {},
     "output_type": "execute_result"
    }
   ],
   "source": [
    "populacao.index.str[:3]"
   ]
  },
  {
   "cell_type": "code",
   "execution_count": 43,
   "metadata": {},
   "outputs": [
    {
     "data": {
      "text/plain": [
       "Unidade da Federação\n",
       "35 São Paulo           282.71\n",
       "31 Minas Gerais        120.47\n",
       "41 Paraná               80.32\n",
       "43 Rio Grande do Sul    78.93\n",
       "33 Rio de Janeiro       71.54\n",
       "Name: 2020/Jul, dtype: float64"
      ]
     },
     "execution_count": 43,
     "metadata": {},
     "output_type": "execute_result"
    }
   ],
   "source": [
    "gastos_do_mais_recente.head()"
   ]
  },
  {
   "cell_type": "code",
   "execution_count": 53,
   "metadata": {},
   "outputs": [
    {
     "data": {
      "text/html": [
       "<div>\n",
       "<style scoped>\n",
       "    .dataframe tbody tr th:only-of-type {\n",
       "        vertical-align: middle;\n",
       "    }\n",
       "\n",
       "    .dataframe tbody tr th {\n",
       "        vertical-align: top;\n",
       "    }\n",
       "\n",
       "    .dataframe thead th {\n",
       "        text-align: right;\n",
       "    }\n",
       "</style>\n",
       "<table border=\"1\" class=\"dataframe\">\n",
       "  <thead>\n",
       "    <tr style=\"text-align: right;\">\n",
       "      <th></th>\n",
       "      <th>populacao</th>\n",
       "    </tr>\n",
       "    <tr>\n",
       "      <th>uf</th>\n",
       "      <th></th>\n",
       "    </tr>\n",
       "  </thead>\n",
       "  <tbody>\n",
       "    <tr>\n",
       "      <th>São Paulo</th>\n",
       "      <td>46289333</td>\n",
       "    </tr>\n",
       "    <tr>\n",
       "      <th>Minas Gerais</th>\n",
       "      <td>21292666</td>\n",
       "    </tr>\n",
       "    <tr>\n",
       "      <th>Rio de Janeiro</th>\n",
       "      <td>17366189</td>\n",
       "    </tr>\n",
       "    <tr>\n",
       "      <th>Bahia Bahia</th>\n",
       "      <td>14930634</td>\n",
       "    </tr>\n",
       "    <tr>\n",
       "      <th>Paraná</th>\n",
       "      <td>11516840</td>\n",
       "    </tr>\n",
       "  </tbody>\n",
       "</table>\n",
       "</div>"
      ],
      "text/plain": [
       "                 populacao\n",
       "uf                        \n",
       " São Paulo        46289333\n",
       " Minas Gerais     21292666\n",
       " Rio de Janeiro   17366189\n",
       "Bahia Bahia       14930634\n",
       " Paraná           11516840"
      ]
     },
     "execution_count": 53,
     "metadata": {},
     "output_type": "execute_result"
    }
   ],
   "source": [
    "populacao.head()"
   ]
  },
  {
   "cell_type": "code",
   "execution_count": 52,
   "metadata": {},
   "outputs": [
    {
     "data": {
      "text/html": [
       "<div>\n",
       "<style scoped>\n",
       "    .dataframe tbody tr th:only-of-type {\n",
       "        vertical-align: middle;\n",
       "    }\n",
       "\n",
       "    .dataframe tbody tr th {\n",
       "        vertical-align: top;\n",
       "    }\n",
       "\n",
       "    .dataframe thead th {\n",
       "        text-align: right;\n",
       "    }\n",
       "</style>\n",
       "<table border=\"1\" class=\"dataframe\">\n",
       "  <thead>\n",
       "    <tr style=\"text-align: right;\">\n",
       "      <th></th>\n",
       "      <th>populacao</th>\n",
       "      <th>2020/Jul</th>\n",
       "    </tr>\n",
       "    <tr>\n",
       "      <th>uf</th>\n",
       "      <th></th>\n",
       "      <th></th>\n",
       "    </tr>\n",
       "  </thead>\n",
       "  <tbody>\n",
       "    <tr>\n",
       "      <th>São Paulo</th>\n",
       "      <td>46289333</td>\n",
       "      <td>nan</td>\n",
       "    </tr>\n",
       "    <tr>\n",
       "      <th>Minas Gerais</th>\n",
       "      <td>21292666</td>\n",
       "      <td>nan</td>\n",
       "    </tr>\n",
       "    <tr>\n",
       "      <th>Rio de Janeiro</th>\n",
       "      <td>17366189</td>\n",
       "      <td>nan</td>\n",
       "    </tr>\n",
       "    <tr>\n",
       "      <th>Bahia Bahia</th>\n",
       "      <td>14930634</td>\n",
       "      <td>nan</td>\n",
       "    </tr>\n",
       "    <tr>\n",
       "      <th>Paraná</th>\n",
       "      <td>11516840</td>\n",
       "      <td>nan</td>\n",
       "    </tr>\n",
       "  </tbody>\n",
       "</table>\n",
       "</div>"
      ],
      "text/plain": [
       "                 populacao  2020/Jul\n",
       "uf                                  \n",
       " São Paulo        46289333       nan\n",
       " Minas Gerais     21292666       nan\n",
       " Rio de Janeiro   17366189       nan\n",
       "Bahia Bahia       14930634       nan\n",
       " Paraná           11516840       nan"
      ]
     },
     "execution_count": 52,
     "metadata": {},
     "output_type": "execute_result"
    }
   ],
   "source": [
    "populacao.join(gastos_do_mais_recente).head()"
   ]
  },
  {
   "cell_type": "markdown",
   "metadata": {},
   "source": [
    "Como podemos perceber, não foi possível juntara tabela de 2020/Jun com a da populacao, pois os nomes das Unidades Federativas estão com o número indice nelas, podemos remover esse número para realizar a junção"
   ]
  },
  {
   "cell_type": "code",
   "execution_count": 51,
   "metadata": {},
   "outputs": [
    {
     "data": {
      "text/plain": [
       "Unidade da Federação\n",
       "São Paulo           282.71\n",
       "Minas Gerais        120.47\n",
       "Paraná               80.32\n",
       "Rio Grande do Sul    78.93\n",
       "Rio de Janeiro       71.54\n",
       "Name: 2020/Jul, dtype: float64"
      ]
     },
     "execution_count": 51,
     "metadata": {},
     "output_type": "execute_result"
    }
   ],
   "source": [
    "gastos_do_mais_recente.index = gastos_do_mais_recente.index.str[3:]\n",
    "gastos_do_mais_recente.head()"
   ]
  },
  {
   "cell_type": "markdown",
   "metadata": {},
   "source": [
    "Um segundo problema é o espaço antes de cada indice"
   ]
  },
  {
   "cell_type": "code",
   "execution_count": 54,
   "metadata": {},
   "outputs": [
    {
     "data": {
      "text/html": [
       "<div>\n",
       "<style scoped>\n",
       "    .dataframe tbody tr th:only-of-type {\n",
       "        vertical-align: middle;\n",
       "    }\n",
       "\n",
       "    .dataframe tbody tr th {\n",
       "        vertical-align: top;\n",
       "    }\n",
       "\n",
       "    .dataframe thead th {\n",
       "        text-align: right;\n",
       "    }\n",
       "</style>\n",
       "<table border=\"1\" class=\"dataframe\">\n",
       "  <thead>\n",
       "    <tr style=\"text-align: right;\">\n",
       "      <th></th>\n",
       "      <th>populacao</th>\n",
       "    </tr>\n",
       "    <tr>\n",
       "      <th>uf</th>\n",
       "      <th></th>\n",
       "    </tr>\n",
       "  </thead>\n",
       "  <tbody>\n",
       "    <tr>\n",
       "      <th>São Paulo</th>\n",
       "      <td>46289333</td>\n",
       "    </tr>\n",
       "    <tr>\n",
       "      <th>Minas Gerais</th>\n",
       "      <td>21292666</td>\n",
       "    </tr>\n",
       "    <tr>\n",
       "      <th>Rio de Janeiro</th>\n",
       "      <td>17366189</td>\n",
       "    </tr>\n",
       "    <tr>\n",
       "      <th>Bahia Bahia</th>\n",
       "      <td>14930634</td>\n",
       "    </tr>\n",
       "    <tr>\n",
       "      <th>Paraná</th>\n",
       "      <td>11516840</td>\n",
       "    </tr>\n",
       "  </tbody>\n",
       "</table>\n",
       "</div>"
      ],
      "text/plain": [
       "                populacao\n",
       "uf                       \n",
       "São Paulo        46289333\n",
       "Minas Gerais     21292666\n",
       "Rio de Janeiro   17366189\n",
       "Bahia Bahia      14930634\n",
       "Paraná           11516840"
      ]
     },
     "execution_count": 54,
     "metadata": {},
     "output_type": "execute_result"
    }
   ],
   "source": [
    "populacao.index = populacao.index.str.strip()\n",
    "populacao.head()"
   ]
  },
  {
   "cell_type": "code",
   "execution_count": 61,
   "metadata": {},
   "outputs": [
    {
     "data": {
      "text/html": [
       "<div>\n",
       "<style scoped>\n",
       "    .dataframe tbody tr th:only-of-type {\n",
       "        vertical-align: middle;\n",
       "    }\n",
       "\n",
       "    .dataframe tbody tr th {\n",
       "        vertical-align: top;\n",
       "    }\n",
       "\n",
       "    .dataframe thead th {\n",
       "        text-align: right;\n",
       "    }\n",
       "</style>\n",
       "<table border=\"1\" class=\"dataframe\">\n",
       "  <thead>\n",
       "    <tr style=\"text-align: right;\">\n",
       "      <th></th>\n",
       "      <th>populacao</th>\n",
       "      <th>2020/Jul</th>\n",
       "    </tr>\n",
       "    <tr>\n",
       "      <th>uf</th>\n",
       "      <th></th>\n",
       "      <th></th>\n",
       "    </tr>\n",
       "  </thead>\n",
       "  <tbody>\n",
       "    <tr>\n",
       "      <th>São Paulo</th>\n",
       "      <td>46289333</td>\n",
       "      <td>282.71</td>\n",
       "    </tr>\n",
       "    <tr>\n",
       "      <th>Minas Gerais</th>\n",
       "      <td>21292666</td>\n",
       "      <td>120.47</td>\n",
       "    </tr>\n",
       "    <tr>\n",
       "      <th>Rio de Janeiro</th>\n",
       "      <td>17366189</td>\n",
       "      <td>71.54</td>\n",
       "    </tr>\n",
       "    <tr>\n",
       "      <th>Bahia Bahia</th>\n",
       "      <td>14930634</td>\n",
       "      <td>nan</td>\n",
       "    </tr>\n",
       "    <tr>\n",
       "      <th>Paraná</th>\n",
       "      <td>11516840</td>\n",
       "      <td>80.32</td>\n",
       "    </tr>\n",
       "    <tr>\n",
       "      <th>Rio Grande do Sul</th>\n",
       "      <td>11422973</td>\n",
       "      <td>78.93</td>\n",
       "    </tr>\n",
       "    <tr>\n",
       "      <th>Pernambuco</th>\n",
       "      <td>9616621</td>\n",
       "      <td>62.33</td>\n",
       "    </tr>\n",
       "    <tr>\n",
       "      <th>Ceará</th>\n",
       "      <td>9187103</td>\n",
       "      <td>30.81</td>\n",
       "    </tr>\n",
       "    <tr>\n",
       "      <th>Pará Pará</th>\n",
       "      <td>8690745</td>\n",
       "      <td>nan</td>\n",
       "    </tr>\n",
       "    <tr>\n",
       "      <th>Santa Catarina</th>\n",
       "      <td>7252502</td>\n",
       "      <td>51.76</td>\n",
       "    </tr>\n",
       "    <tr>\n",
       "      <th>Maranhão</th>\n",
       "      <td>7114598</td>\n",
       "      <td>24.37</td>\n",
       "    </tr>\n",
       "    <tr>\n",
       "      <th>Goiás</th>\n",
       "      <td>7113540</td>\n",
       "      <td>33.50</td>\n",
       "    </tr>\n",
       "    <tr>\n",
       "      <th>Amazonas</th>\n",
       "      <td>4207714</td>\n",
       "      <td>13.36</td>\n",
       "    </tr>\n",
       "    <tr>\n",
       "      <th>Espírito Santo</th>\n",
       "      <td>4064052</td>\n",
       "      <td>27.46</td>\n",
       "    </tr>\n",
       "    <tr>\n",
       "      <th>Paraíba</th>\n",
       "      <td>4039277</td>\n",
       "      <td>15.49</td>\n",
       "    </tr>\n",
       "    <tr>\n",
       "      <th>Rio Grande do Norte</th>\n",
       "      <td>3534165</td>\n",
       "      <td>19.59</td>\n",
       "    </tr>\n",
       "    <tr>\n",
       "      <th>Mato Grosso</th>\n",
       "      <td>3526220</td>\n",
       "      <td>13.08</td>\n",
       "    </tr>\n",
       "    <tr>\n",
       "      <th>Alagoas</th>\n",
       "      <td>3351543</td>\n",
       "      <td>13.09</td>\n",
       "    </tr>\n",
       "    <tr>\n",
       "      <th>Piauí</th>\n",
       "      <td>3281480</td>\n",
       "      <td>18.02</td>\n",
       "    </tr>\n",
       "    <tr>\n",
       "      <th>Distrito Federal</th>\n",
       "      <td>3055149</td>\n",
       "      <td>22.23</td>\n",
       "    </tr>\n",
       "    <tr>\n",
       "      <th>Mato Grosso do Sul</th>\n",
       "      <td>2809394</td>\n",
       "      <td>12.51</td>\n",
       "    </tr>\n",
       "    <tr>\n",
       "      <th>Sergipe</th>\n",
       "      <td>2318822</td>\n",
       "      <td>3.31</td>\n",
       "    </tr>\n",
       "    <tr>\n",
       "      <th>Rondônia</th>\n",
       "      <td>1796460</td>\n",
       "      <td>7.41</td>\n",
       "    </tr>\n",
       "    <tr>\n",
       "      <th>Tocantins</th>\n",
       "      <td>1590248</td>\n",
       "      <td>4.49</td>\n",
       "    </tr>\n",
       "    <tr>\n",
       "      <th>Acre</th>\n",
       "      <td>894470</td>\n",
       "      <td>1.16</td>\n",
       "    </tr>\n",
       "    <tr>\n",
       "      <th>Amapá</th>\n",
       "      <td>861773</td>\n",
       "      <td>2.16</td>\n",
       "    </tr>\n",
       "    <tr>\n",
       "      <th>Roraima</th>\n",
       "      <td>631181</td>\n",
       "      <td>2.74</td>\n",
       "    </tr>\n",
       "  </tbody>\n",
       "</table>\n",
       "</div>"
      ],
      "text/plain": [
       "                     populacao  2020/Jul\n",
       "uf                                      \n",
       "São Paulo             46289333    282.71\n",
       "Minas Gerais          21292666    120.47\n",
       "Rio de Janeiro        17366189     71.54\n",
       "Bahia Bahia           14930634       nan\n",
       "Paraná                11516840     80.32\n",
       "Rio Grande do Sul     11422973     78.93\n",
       "Pernambuco             9616621     62.33\n",
       "Ceará                  9187103     30.81\n",
       "Pará Pará              8690745       nan\n",
       "Santa Catarina         7252502     51.76\n",
       "Maranhão               7114598     24.37\n",
       "Goiás                  7113540     33.50\n",
       "Amazonas               4207714     13.36\n",
       "Espírito Santo         4064052     27.46\n",
       "Paraíba                4039277     15.49\n",
       "Rio Grande do Norte    3534165     19.59\n",
       "Mato Grosso            3526220     13.08\n",
       "Alagoas                3351543     13.09\n",
       "Piauí                  3281480     18.02\n",
       "Distrito Federal       3055149     22.23\n",
       "Mato Grosso do Sul     2809394     12.51\n",
       "Sergipe                2318822      3.31\n",
       "Rondônia               1796460      7.41\n",
       "Tocantins              1590248      4.49\n",
       "Acre                    894470      1.16\n",
       "Amapá                   861773      2.16\n",
       "Roraima                 631181      2.74"
      ]
     },
     "execution_count": 61,
     "metadata": {},
     "output_type": "execute_result"
    }
   ],
   "source": [
    "populacao.join(gastos_do_mais_recente)"
   ]
  },
  {
   "cell_type": "markdown",
   "metadata": {},
   "source": [
    " Podemos ver que algumas tabelas de uf, o estado ficou duplicado, isto acontece provavelmente por conta do wikipedia, onde o desenvolvedor deve ter colocado uma função para aparecer o nome do estado quando não possivel carregar a bandeira. Podemos realizar uma função para realizar a retirada deste nome, quando duplicado."
   ]
  },
  {
   "cell_type": "code",
   "execution_count": 64,
   "metadata": {},
   "outputs": [
    {
     "data": {
      "text/plain": [
       "Index(['São Paulo', 'Minas Gerais', 'Rio de Janeiro', 'Bahia', 'Paraná',\n",
       "       'Rio Grande do Sul', 'Pernambuco', 'Ceará', 'Pará', 'Santa Catarina',\n",
       "       'Maranhão', 'Goiás', 'Amazonas', 'Espírito Santo', 'Paraíba',\n",
       "       'Rio Grande do Norte', 'Mato Grosso', 'Alagoas', 'Piauí',\n",
       "       'Distrito Federal', 'Mato Grosso do Sul', 'Sergipe', 'Rondônia',\n",
       "       'Tocantins', 'Acre', 'Amapá', 'Roraima'],\n",
       "      dtype='object', name='uf')"
      ]
     },
     "execution_count": 64,
     "metadata": {},
     "output_type": "execute_result"
    }
   ],
   "source": [
    "for estado in gastos_do_mais_recente.index:\n",
    "    populacao.index = populacao.index.str.replace(f\"{estado} {estado}\", estado)\n",
    "populacao.index"
   ]
  },
  {
   "cell_type": "code",
   "execution_count": 66,
   "metadata": {},
   "outputs": [
    {
     "data": {
      "text/html": [
       "<div>\n",
       "<style scoped>\n",
       "    .dataframe tbody tr th:only-of-type {\n",
       "        vertical-align: middle;\n",
       "    }\n",
       "\n",
       "    .dataframe tbody tr th {\n",
       "        vertical-align: top;\n",
       "    }\n",
       "\n",
       "    .dataframe thead th {\n",
       "        text-align: right;\n",
       "    }\n",
       "</style>\n",
       "<table border=\"1\" class=\"dataframe\">\n",
       "  <thead>\n",
       "    <tr style=\"text-align: right;\">\n",
       "      <th></th>\n",
       "      <th>populacao</th>\n",
       "      <th>2020/Jul</th>\n",
       "    </tr>\n",
       "    <tr>\n",
       "      <th>uf</th>\n",
       "      <th></th>\n",
       "      <th></th>\n",
       "    </tr>\n",
       "  </thead>\n",
       "  <tbody>\n",
       "    <tr>\n",
       "      <th>São Paulo</th>\n",
       "      <td>46289333</td>\n",
       "      <td>282.71</td>\n",
       "    </tr>\n",
       "    <tr>\n",
       "      <th>Minas Gerais</th>\n",
       "      <td>21292666</td>\n",
       "      <td>120.47</td>\n",
       "    </tr>\n",
       "    <tr>\n",
       "      <th>Rio de Janeiro</th>\n",
       "      <td>17366189</td>\n",
       "      <td>71.54</td>\n",
       "    </tr>\n",
       "    <tr>\n",
       "      <th>Bahia</th>\n",
       "      <td>14930634</td>\n",
       "      <td>58.90</td>\n",
       "    </tr>\n",
       "    <tr>\n",
       "      <th>Paraná</th>\n",
       "      <td>11516840</td>\n",
       "      <td>80.32</td>\n",
       "    </tr>\n",
       "  </tbody>\n",
       "</table>\n",
       "</div>"
      ],
      "text/plain": [
       "                populacao  2020/Jul\n",
       "uf                                 \n",
       "São Paulo        46289333    282.71\n",
       "Minas Gerais     21292666    120.47\n",
       "Rio de Janeiro   17366189     71.54\n",
       "Bahia            14930634     58.90\n",
       "Paraná           11516840     80.32"
      ]
     },
     "execution_count": 66,
     "metadata": {},
     "output_type": "execute_result"
    }
   ],
   "source": [
    "populacao.join(gastos_do_mais_recente).head()"
   ]
  },
  {
   "cell_type": "markdown",
   "metadata": {},
   "source": [
    "### Desafios Aula 01\n",
    "\n",
    "1. Entre nos dados do wikipedia e Leia a Base de dados direto do Wikipedia\n",
    "2. Neste desafio temos uma série de passos:\n",
    "    - Padronizar os nomes das colunas\n",
    "    - Transformar os dados nos tipos corretos\n",
    "    - Transformar a UF em index\n",
    "3. Buscar na documentação alguns métodos envolvendo strings\n",
    "4. Desenvolver uma função para limpeza e tratamento dos dados, retornando duas tabelas, \"populacao\" e \"unida\""
   ]
  },
  {
   "cell_type": "markdown",
   "metadata": {},
   "source": [
    "#### Desafio: Entre nos dados do wikipedia e Leia a base de dados direto do Wikipedia"
   ]
  },
  {
   "cell_type": "markdown",
   "metadata": {},
   "source": [
    "Podemos utilizar a biblioteca que importamos, [BeautifulSoup](https://www.crummy.com/software/BeautifulSoup/bs4/doc/) para realizar a extração de arquivos HTML e o requests para a requisição da url"
   ]
  },
  {
   "cell_type": "code",
   "execution_count": 67,
   "metadata": {},
   "outputs": [
    {
     "data": {
      "text/html": [
       "<div>\n",
       "<style scoped>\n",
       "    .dataframe tbody tr th:only-of-type {\n",
       "        vertical-align: middle;\n",
       "    }\n",
       "\n",
       "    .dataframe tbody tr th {\n",
       "        vertical-align: top;\n",
       "    }\n",
       "\n",
       "    .dataframe thead th {\n",
       "        text-align: right;\n",
       "    }\n",
       "</style>\n",
       "<table border=\"1\" class=\"dataframe\">\n",
       "  <thead>\n",
       "    <tr style=\"text-align: right;\">\n",
       "      <th></th>\n",
       "      <th>Posição</th>\n",
       "      <th>Unidade federativa</th>\n",
       "      <th>População</th>\n",
       "      <th>% da pop. total</th>\n",
       "      <th>País comparável (habitantes)</th>\n",
       "    </tr>\n",
       "  </thead>\n",
       "  <tbody>\n",
       "    <tr>\n",
       "      <th>0</th>\n",
       "      <td>1</td>\n",
       "      <td>São Paulo</td>\n",
       "      <td>46 289 333</td>\n",
       "      <td>21,9%</td>\n",
       "      <td>Espanha (46 439 864)</td>\n",
       "    </tr>\n",
       "    <tr>\n",
       "      <th>1</th>\n",
       "      <td>2</td>\n",
       "      <td>Minas Gerais</td>\n",
       "      <td>21 292 666</td>\n",
       "      <td>10,1%</td>\n",
       "      <td>Sri Lanka (20 675 000)</td>\n",
       "    </tr>\n",
       "    <tr>\n",
       "      <th>2</th>\n",
       "      <td>3</td>\n",
       "      <td>Rio de Janeiro</td>\n",
       "      <td>17 366 189</td>\n",
       "      <td>8,2%</td>\n",
       "      <td>Países Baixos (16 922 900)</td>\n",
       "    </tr>\n",
       "    <tr>\n",
       "      <th>3</th>\n",
       "      <td>4</td>\n",
       "      <td>Bahia</td>\n",
       "      <td>14 930 634</td>\n",
       "      <td>7,1%</td>\n",
       "      <td>Chade (14 037 000)</td>\n",
       "    </tr>\n",
       "    <tr>\n",
       "      <th>4</th>\n",
       "      <td>5</td>\n",
       "      <td>Paraná</td>\n",
       "      <td>11 516 840</td>\n",
       "      <td>5,4%</td>\n",
       "      <td>Bolívia (11 410 651)</td>\n",
       "    </tr>\n",
       "  </tbody>\n",
       "</table>\n",
       "</div>"
      ],
      "text/plain": [
       "   Posição Unidade federativa   População % da pop. total  \\\n",
       "0        1          São Paulo  46 289 333           21,9%   \n",
       "1        2       Minas Gerais  21 292 666           10,1%   \n",
       "2        3     Rio de Janeiro  17 366 189            8,2%   \n",
       "3        4              Bahia  14 930 634            7,1%   \n",
       "4        5             Paraná  11 516 840            5,4%   \n",
       "\n",
       "  País comparável (habitantes)  \n",
       "0         Espanha (46 439 864)  \n",
       "1       Sri Lanka (20 675 000)  \n",
       "2   Países Baixos (16 922 900)  \n",
       "3           Chade (14 037 000)  \n",
       "4         Bolívia (11 410 651)  "
      ]
     },
     "execution_count": 67,
     "metadata": {},
     "output_type": "execute_result"
    }
   ],
   "source": [
    "# Url da Wikipedia\n",
    "url = \"https://pt.wikipedia.org/wiki/Lista_de_unidades_federativas_do_Brasil_por_popula%C3%A7%C3%A3o\"\n",
    "\n",
    "# Requisicao\n",
    "response = requests.get(url)\n",
    "\n",
    "# instanciando o BeautiBeautifulSoup\n",
    "soup = BeautifulSoup(response.text, \"html.parser\")\n",
    "\n",
    "tabela = soup.find_all('table')[0] # acha todas as tags <table> e armazena a primeira\n",
    "# Estamos armazenando a primeira, pois foi inspecionado a ordem no site.\n",
    "\n",
    "dados = pd.read_html(str(tabela)) # Leitura dos dados da tabela novamente\n",
    "pop = pd.DataFrame(dados[0]) #transforma os dados num pandas dataframe e armazena os dados na variavel pop\n",
    "pop.head()"
   ]
  },
  {
   "cell_type": "markdown",
   "metadata": {},
   "source": [
    "#### Desafio: Neste desafio temos uma série de passos:\n",
    "    Padronizar os nomes das colunas\n",
    "    Transformar os dados nos tipos corretos\n",
    "    Transformar a UF em index"
   ]
  },
  {
   "cell_type": "markdown",
   "metadata": {},
   "source": [
    "para este desafio, iremos seguir os passos realizados anteriormente, afim de deixar nossa tabela limpa"
   ]
  },
  {
   "cell_type": "code",
   "execution_count": 68,
   "metadata": {},
   "outputs": [
    {
     "data": {
      "text/html": [
       "<div>\n",
       "<style scoped>\n",
       "    .dataframe tbody tr th:only-of-type {\n",
       "        vertical-align: middle;\n",
       "    }\n",
       "\n",
       "    .dataframe tbody tr th {\n",
       "        vertical-align: top;\n",
       "    }\n",
       "\n",
       "    .dataframe thead th {\n",
       "        text-align: right;\n",
       "    }\n",
       "</style>\n",
       "<table border=\"1\" class=\"dataframe\">\n",
       "  <thead>\n",
       "    <tr style=\"text-align: right;\">\n",
       "      <th></th>\n",
       "      <th>populacao</th>\n",
       "    </tr>\n",
       "    <tr>\n",
       "      <th>uf</th>\n",
       "      <th></th>\n",
       "    </tr>\n",
       "  </thead>\n",
       "  <tbody>\n",
       "    <tr>\n",
       "      <th>São Paulo</th>\n",
       "      <td>46289333</td>\n",
       "    </tr>\n",
       "    <tr>\n",
       "      <th>Minas Gerais</th>\n",
       "      <td>21292666</td>\n",
       "    </tr>\n",
       "    <tr>\n",
       "      <th>Rio de Janeiro</th>\n",
       "      <td>17366189</td>\n",
       "    </tr>\n",
       "    <tr>\n",
       "      <th>Bahia</th>\n",
       "      <td>14930634</td>\n",
       "    </tr>\n",
       "    <tr>\n",
       "      <th>Paraná</th>\n",
       "      <td>11516840</td>\n",
       "    </tr>\n",
       "  </tbody>\n",
       "</table>\n",
       "</div>"
      ],
      "text/plain": [
       "                populacao\n",
       "uf                       \n",
       "São Paulo        46289333\n",
       "Minas Gerais     21292666\n",
       "Rio de Janeiro   17366189\n",
       "Bahia            14930634\n",
       "Paraná           11516840"
      ]
     },
     "metadata": {},
     "output_type": "display_data"
    },
    {
     "name": "stdout",
     "output_type": "stream",
     "text": [
      "<class 'pandas.core.frame.DataFrame'>\n",
      "Index: 27 entries, São Paulo to Roraima\n",
      "Data columns (total 1 columns):\n",
      " #   Column     Non-Null Count  Dtype\n",
      "---  ------     --------------  -----\n",
      " 0   populacao  27 non-null     int64\n",
      "dtypes: int64(1)\n",
      "memory usage: 1.7+ KB\n"
     ]
    },
    {
     "data": {
      "text/plain": [
       "None"
      ]
     },
     "metadata": {},
     "output_type": "display_data"
    }
   ],
   "source": [
    "pop = pop.dropna()\n",
    "pop[\"populacao\"] = pop[\"População\"].str.replace(\" \", \"\").astype(int)\n",
    "pop[\"uf\"] = pop[\"Unidade federativa\"]\n",
    "pop = pop[[\"populacao\", \"uf\"]].set_index(\"uf\")\n",
    "display(populacao.head())\n",
    "display(populacao.info())"
   ]
  },
  {
   "cell_type": "markdown",
   "metadata": {},
   "source": [
    "#### Desafio: Buscar na documentação alguns métodos envolvendo strings"
   ]
  },
  {
   "cell_type": "markdown",
   "metadata": {},
   "source": [
    "Neste desafio buscamos a documentação oficial do [pandas](https://pandas.pydata.org/pandas-docs/stable/reference/api/pandas.Series.str.html) na parte de \"Series.str\", contém inúmeras funções utilizando .str que temos disponível na biblioteca pandas. dentre as que achei mais interessante trazer temos:\n",
    "- .extract(): Extract capture groups in the regex pat as columns in a DataFrame.\n",
    "- .find(): Return lowest indexes in each strings in the Series/Index.\n",
    "- .lstrip(): Remove leading characters.\n",
    "- .match(): Determine if each string starts with a match of a regular expression.\n",
    "- .translate(): Map all characters in the string through the given mapping table."
   ]
  },
  {
   "cell_type": "markdown",
   "metadata": {},
   "source": [
    "#### Desafio: Desenvolver uma função para a limpeza e tratamento dos dados, retornando duas tabelas \"população\" e \"unida\""
   ]
  },
  {
   "cell_type": "code",
   "execution_count": null,
   "metadata": {},
   "outputs": [],
   "source": []
  },
  {
   "cell_type": "code",
   "execution_count": null,
   "metadata": {},
   "outputs": [],
   "source": []
  },
  {
   "cell_type": "code",
   "execution_count": null,
   "metadata": {},
   "outputs": [],
   "source": []
  },
  {
   "cell_type": "markdown",
   "metadata": {},
   "source": [
    "### O que aprendemos \n",
    "- Como comparar os gastos em relação a determinados estados\n",
    "- Como fazer a leitura de dados no formato Excel com Pandas\n",
    "- Como tornar uma string em (com formato de tabela) legível em pandas usando String.IO\n",
    "- Como usar Join em Pandas"
   ]
  },
  {
   "cell_type": "code",
   "execution_count": null,
   "metadata": {},
   "outputs": [],
   "source": []
  }
 ],
 "metadata": {
  "kernelspec": {
   "display_name": "Python 3",
   "language": "python",
   "name": "python3"
  },
  "language_info": {
   "codemirror_mode": {
    "name": "ipython",
    "version": 3
   },
   "file_extension": ".py",
   "mimetype": "text/x-python",
   "name": "python",
   "nbconvert_exporter": "python",
   "pygments_lexer": "ipython3",
   "version": "3.8.3"
  }
 },
 "nbformat": 4,
 "nbformat_minor": 4
}
