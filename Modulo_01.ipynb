{
 "cells": [
  {
   "cell_type": "markdown",
   "metadata": {},
   "source": [
    "# BootCamp Data Science Aplicada Alura\n",
    "\n",
    "   #### Felipe Chermont Pereira"
   ]
  },
  {
   "cell_type": "markdown",
   "metadata": {},
   "source": [
    "## *Módulo 01*"
   ]
  },
  {
   "cell_type": "markdown",
   "metadata": {},
   "source": [
    "### *Aula 01* - Aquisição e leitura e análise dos dados do [SUS](http://www2.datasus.gov.br/DATASUS/index.php?area=0202&id=11633&VObj=http://tabnet.datasus.gov.br/cgi/deftohtm.exe?sih/cnv/qi).  "
   ]
  },
  {
   "cell_type": "markdown",
   "metadata": {},
   "source": [
    "Os dados monstram o gasto em produção hospitalar mensal por unidade federativa do SUS de janeiro de 2008 até agosto de 2020 em reais"
   ]
  },
  {
   "cell_type": "markdown",
   "metadata": {},
   "source": [
    "#### Carregando a Base de dados\n",
    "\n",
    "Primeiramente, é preciso saber importar e tratar dados reais. A base de dados que trataremos veio com imperfeições que atrapalham a trabalhar com os dados, resolvemos então tratar:\n",
    "\n",
    "   - Passar o encoding como padrão \"ISO-8859-1\"\n",
    "   - Ignorar as primeiras linhas (skiprows)\n",
    "   - Ignorar as ultimas linhas (skipfooter)\n",
    "   - Informar o separador como \";\" (sep)\n",
    "   - Informar o separador de milhares como \".\" (thousands)\n",
    "   - Informar o separador de decimal como \",\" (decimal)\n"
   ]
  },
  {
   "cell_type": "code",
   "execution_count": 1,
   "metadata": {},
   "outputs": [],
   "source": [
    "import pandas as pd"
   ]
  },
  {
   "cell_type": "code",
   "execution_count": 2,
   "metadata": {
    "scrolled": false
   },
   "outputs": [
    {
     "data": {
      "text/html": [
       "<div>\n",
       "<style scoped>\n",
       "    .dataframe tbody tr th:only-of-type {\n",
       "        vertical-align: middle;\n",
       "    }\n",
       "\n",
       "    .dataframe tbody tr th {\n",
       "        vertical-align: top;\n",
       "    }\n",
       "\n",
       "    .dataframe thead th {\n",
       "        text-align: right;\n",
       "    }\n",
       "</style>\n",
       "<table border=\"1\" class=\"dataframe\">\n",
       "  <thead>\n",
       "    <tr style=\"text-align: right;\">\n",
       "      <th></th>\n",
       "      <th>Unidade da Federação</th>\n",
       "      <th>2008/Jan</th>\n",
       "      <th>2008/Fev</th>\n",
       "      <th>2008/Mar</th>\n",
       "      <th>2008/Abr</th>\n",
       "      <th>2008/Mai</th>\n",
       "      <th>2008/Jun</th>\n",
       "      <th>2008/Jul</th>\n",
       "      <th>2008/Ago</th>\n",
       "      <th>2008/Set</th>\n",
       "      <th>...</th>\n",
       "      <th>2019/Dez</th>\n",
       "      <th>2020/Jan</th>\n",
       "      <th>2020/Fev</th>\n",
       "      <th>2020/Mar</th>\n",
       "      <th>2020/Abr</th>\n",
       "      <th>2020/Mai</th>\n",
       "      <th>2020/Jun</th>\n",
       "      <th>2020/Jul</th>\n",
       "      <th>2020/Ago</th>\n",
       "      <th>Total</th>\n",
       "    </tr>\n",
       "  </thead>\n",
       "  <tbody>\n",
       "    <tr>\n",
       "      <th>0</th>\n",
       "      <td>11 Rondônia</td>\n",
       "      <td>1388528.39</td>\n",
       "      <td>2931283.42</td>\n",
       "      <td>1541682.52</td>\n",
       "      <td>1525314.96</td>\n",
       "      <td>1645953.84</td>\n",
       "      <td>1406150.68</td>\n",
       "      <td>3065279.01</td>\n",
       "      <td>3231494.61</td>\n",
       "      <td>3117178.63</td>\n",
       "      <td>...</td>\n",
       "      <td>8085025.66</td>\n",
       "      <td>9221412.18</td>\n",
       "      <td>7493310.88</td>\n",
       "      <td>8092260.11</td>\n",
       "      <td>7273843.63</td>\n",
       "      <td>7652120.28</td>\n",
       "      <td>8725530.68</td>\n",
       "      <td>11152107.08</td>\n",
       "      <td>10285455.78</td>\n",
       "      <td>9.291297e+08</td>\n",
       "    </tr>\n",
       "    <tr>\n",
       "      <th>1</th>\n",
       "      <td>12 Acre</td>\n",
       "      <td>902416.00</td>\n",
       "      <td>1497206.26</td>\n",
       "      <td>1794028.48</td>\n",
       "      <td>1730469.42</td>\n",
       "      <td>1819443.92</td>\n",
       "      <td>1828496.00</td>\n",
       "      <td>2511754.59</td>\n",
       "      <td>2089107.14</td>\n",
       "      <td>2275708.53</td>\n",
       "      <td>...</td>\n",
       "      <td>2874871.28</td>\n",
       "      <td>3331803.55</td>\n",
       "      <td>3417691.07</td>\n",
       "      <td>3076003.20</td>\n",
       "      <td>2286642.60</td>\n",
       "      <td>2896340.24</td>\n",
       "      <td>3045245.80</td>\n",
       "      <td>3915193.20</td>\n",
       "      <td>-</td>\n",
       "      <td>4.206680e+08</td>\n",
       "    </tr>\n",
       "    <tr>\n",
       "      <th>2</th>\n",
       "      <td>13 Amazonas</td>\n",
       "      <td>4735529.42</td>\n",
       "      <td>7118990.57</td>\n",
       "      <td>8196635.49</td>\n",
       "      <td>8259378.42</td>\n",
       "      <td>7831399.90</td>\n",
       "      <td>8477273.62</td>\n",
       "      <td>9368858.72</td>\n",
       "      <td>9352532.70</td>\n",
       "      <td>9363099.35</td>\n",
       "      <td>...</td>\n",
       "      <td>14346553.60</td>\n",
       "      <td>16018459.07</td>\n",
       "      <td>14913745.37</td>\n",
       "      <td>15068304.35</td>\n",
       "      <td>13509579.29</td>\n",
       "      <td>19658585.46</td>\n",
       "      <td>20897542.93</td>\n",
       "      <td>19346450.18</td>\n",
       "      <td>14726443.67</td>\n",
       "      <td>1.771655e+09</td>\n",
       "    </tr>\n",
       "    <tr>\n",
       "      <th>3</th>\n",
       "      <td>14 Roraima</td>\n",
       "      <td>657889.53</td>\n",
       "      <td>777939.31</td>\n",
       "      <td>718688.03</td>\n",
       "      <td>839994.39</td>\n",
       "      <td>862347.96</td>\n",
       "      <td>832440.66</td>\n",
       "      <td>996693.09</td>\n",
       "      <td>894271.18</td>\n",
       "      <td>910424.17</td>\n",
       "      <td>...</td>\n",
       "      <td>3097113.21</td>\n",
       "      <td>3059823.80</td>\n",
       "      <td>2912519.98</td>\n",
       "      <td>2937346.43</td>\n",
       "      <td>2868820.96</td>\n",
       "      <td>2752228.26</td>\n",
       "      <td>3401864.29</td>\n",
       "      <td>3015488.30</td>\n",
       "      <td>2826486.18</td>\n",
       "      <td>3.050109e+08</td>\n",
       "    </tr>\n",
       "    <tr>\n",
       "      <th>4</th>\n",
       "      <td>15 Pará</td>\n",
       "      <td>18864744.11</td>\n",
       "      <td>19553758.20</td>\n",
       "      <td>21937342.70</td>\n",
       "      <td>20842829.69</td>\n",
       "      <td>23249952.88</td>\n",
       "      <td>23240687.56</td>\n",
       "      <td>24002223.56</td>\n",
       "      <td>23341218.03</td>\n",
       "      <td>25172261.32</td>\n",
       "      <td>...</td>\n",
       "      <td>35925899.01</td>\n",
       "      <td>34345207.63</td>\n",
       "      <td>37384336.94</td>\n",
       "      <td>35512568.15</td>\n",
       "      <td>28217249.66</td>\n",
       "      <td>32617541.05</td>\n",
       "      <td>41625331.28</td>\n",
       "      <td>38438873.79</td>\n",
       "      <td>39911193.02</td>\n",
       "      <td>4.437116e+09</td>\n",
       "    </tr>\n",
       "  </tbody>\n",
       "</table>\n",
       "<p>5 rows × 154 columns</p>\n",
       "</div>"
      ],
      "text/plain": [
       "  Unidade da Federação     2008/Jan     2008/Fev     2008/Mar     2008/Abr  \\\n",
       "0          11 Rondônia   1388528.39   2931283.42   1541682.52   1525314.96   \n",
       "1              12 Acre    902416.00   1497206.26   1794028.48   1730469.42   \n",
       "2          13 Amazonas   4735529.42   7118990.57   8196635.49   8259378.42   \n",
       "3           14 Roraima    657889.53    777939.31    718688.03    839994.39   \n",
       "4              15 Pará  18864744.11  19553758.20  21937342.70  20842829.69   \n",
       "\n",
       "      2008/Mai     2008/Jun     2008/Jul     2008/Ago     2008/Set  ...  \\\n",
       "0   1645953.84   1406150.68   3065279.01   3231494.61   3117178.63  ...   \n",
       "1   1819443.92   1828496.00   2511754.59   2089107.14   2275708.53  ...   \n",
       "2   7831399.90   8477273.62   9368858.72   9352532.70   9363099.35  ...   \n",
       "3    862347.96    832440.66    996693.09    894271.18    910424.17  ...   \n",
       "4  23249952.88  23240687.56  24002223.56  23341218.03  25172261.32  ...   \n",
       "\n",
       "      2019/Dez     2020/Jan     2020/Fev     2020/Mar     2020/Abr  \\\n",
       "0   8085025.66   9221412.18   7493310.88   8092260.11   7273843.63   \n",
       "1   2874871.28   3331803.55   3417691.07   3076003.20   2286642.60   \n",
       "2  14346553.60  16018459.07  14913745.37  15068304.35  13509579.29   \n",
       "3   3097113.21   3059823.80   2912519.98   2937346.43   2868820.96   \n",
       "4  35925899.01  34345207.63  37384336.94  35512568.15  28217249.66   \n",
       "\n",
       "      2020/Mai     2020/Jun     2020/Jul     2020/Ago         Total  \n",
       "0   7652120.28   8725530.68  11152107.08  10285455.78  9.291297e+08  \n",
       "1   2896340.24   3045245.80   3915193.20            -  4.206680e+08  \n",
       "2  19658585.46  20897542.93  19346450.18  14726443.67  1.771655e+09  \n",
       "3   2752228.26   3401864.29   3015488.30   2826486.18  3.050109e+08  \n",
       "4  32617541.05  41625331.28  38438873.79  39911193.02  4.437116e+09  \n",
       "\n",
       "[5 rows x 154 columns]"
      ]
     },
     "execution_count": 2,
     "metadata": {},
     "output_type": "execute_result"
    }
   ],
   "source": [
    "dados = pd.read_csv(\"dados/A151346189_28_143_208.csv\", encoding= \"ISO-8859-1\",\n",
    "                   skiprows = 3, sep=\";\",skipfooter = 12, engine='python', thousands=\".\", decimal=\",\")\n",
    "\n",
    "dados.head() #exibir as 5 primeiras linhas"
   ]
  },
  {
   "cell_type": "markdown",
   "metadata": {},
   "source": [
    "Importação e \"limpeza\" dos dados realizada"
   ]
  },
  {
   "cell_type": "code",
   "execution_count": 3,
   "metadata": {},
   "outputs": [
    {
     "data": {
      "text/html": [
       "<div>\n",
       "<style scoped>\n",
       "    .dataframe tbody tr th:only-of-type {\n",
       "        vertical-align: middle;\n",
       "    }\n",
       "\n",
       "    .dataframe tbody tr th {\n",
       "        vertical-align: top;\n",
       "    }\n",
       "\n",
       "    .dataframe thead th {\n",
       "        text-align: right;\n",
       "    }\n",
       "</style>\n",
       "<table border=\"1\" class=\"dataframe\">\n",
       "  <thead>\n",
       "    <tr style=\"text-align: right;\">\n",
       "      <th></th>\n",
       "      <th>Unidade da Federação</th>\n",
       "      <th>2008/Jan</th>\n",
       "      <th>2008/Fev</th>\n",
       "      <th>2008/Mar</th>\n",
       "      <th>2008/Abr</th>\n",
       "      <th>2008/Mai</th>\n",
       "      <th>2008/Jun</th>\n",
       "      <th>2008/Jul</th>\n",
       "      <th>2008/Ago</th>\n",
       "      <th>2008/Set</th>\n",
       "      <th>...</th>\n",
       "      <th>2019/Dez</th>\n",
       "      <th>2020/Jan</th>\n",
       "      <th>2020/Fev</th>\n",
       "      <th>2020/Mar</th>\n",
       "      <th>2020/Abr</th>\n",
       "      <th>2020/Mai</th>\n",
       "      <th>2020/Jun</th>\n",
       "      <th>2020/Jul</th>\n",
       "      <th>2020/Ago</th>\n",
       "      <th>Total</th>\n",
       "    </tr>\n",
       "  </thead>\n",
       "  <tbody>\n",
       "    <tr>\n",
       "      <th>22</th>\n",
       "      <td>43 Rio Grande do Sul</td>\n",
       "      <td>30931325.46</td>\n",
       "      <td>57363420.01</td>\n",
       "      <td>51547794.07</td>\n",
       "      <td>56673338.49</td>\n",
       "      <td>48397733.07</td>\n",
       "      <td>52413429.62</td>\n",
       "      <td>56636376.98</td>\n",
       "      <td>56113054.70</td>\n",
       "      <td>55356224.30</td>\n",
       "      <td>...</td>\n",
       "      <td>90775418.13</td>\n",
       "      <td>94908336.74</td>\n",
       "      <td>91437940.91</td>\n",
       "      <td>1.028761e+08</td>\n",
       "      <td>83000318.02</td>\n",
       "      <td>82381774.95</td>\n",
       "      <td>86051002.13</td>\n",
       "      <td>1.005310e+08</td>\n",
       "      <td>101374341.51</td>\n",
       "      <td>1.195865e+10</td>\n",
       "    </tr>\n",
       "    <tr>\n",
       "      <th>23</th>\n",
       "      <td>50 Mato Grosso do Sul</td>\n",
       "      <td>5377392.11</td>\n",
       "      <td>7002472.61</td>\n",
       "      <td>8423933.19</td>\n",
       "      <td>8797487.68</td>\n",
       "      <td>9770421.80</td>\n",
       "      <td>10905392.18</td>\n",
       "      <td>10249299.82</td>\n",
       "      <td>9671553.45</td>\n",
       "      <td>10218511.05</td>\n",
       "      <td>...</td>\n",
       "      <td>17895244.76</td>\n",
       "      <td>18115134.64</td>\n",
       "      <td>19542439.88</td>\n",
       "      <td>1.903279e+07</td>\n",
       "      <td>17410262.53</td>\n",
       "      <td>17913161.92</td>\n",
       "      <td>17331445.92</td>\n",
       "      <td>1.875556e+07</td>\n",
       "      <td>19241624.02</td>\n",
       "      <td>2.172158e+09</td>\n",
       "    </tr>\n",
       "    <tr>\n",
       "      <th>24</th>\n",
       "      <td>51 Mato Grosso</td>\n",
       "      <td>4795299.01</td>\n",
       "      <td>8684882.23</td>\n",
       "      <td>7886243.14</td>\n",
       "      <td>8794109.79</td>\n",
       "      <td>9231645.40</td>\n",
       "      <td>10221763.77</td>\n",
       "      <td>9163314.28</td>\n",
       "      <td>9243148.81</td>\n",
       "      <td>9052354.89</td>\n",
       "      <td>...</td>\n",
       "      <td>15029205.51</td>\n",
       "      <td>15249241.20</td>\n",
       "      <td>15046851.63</td>\n",
       "      <td>1.488682e+07</td>\n",
       "      <td>12546999.04</td>\n",
       "      <td>13604225.34</td>\n",
       "      <td>13151005.63</td>\n",
       "      <td>1.637164e+07</td>\n",
       "      <td>17790649.87</td>\n",
       "      <td>2.036924e+09</td>\n",
       "    </tr>\n",
       "    <tr>\n",
       "      <th>25</th>\n",
       "      <td>52 Goiás</td>\n",
       "      <td>15310637.29</td>\n",
       "      <td>22258668.68</td>\n",
       "      <td>21442515.75</td>\n",
       "      <td>20921212.45</td>\n",
       "      <td>21615970.67</td>\n",
       "      <td>18270043.87</td>\n",
       "      <td>20540517.13</td>\n",
       "      <td>20650730.67</td>\n",
       "      <td>20868443.56</td>\n",
       "      <td>...</td>\n",
       "      <td>34873099.14</td>\n",
       "      <td>35775375.69</td>\n",
       "      <td>35005746.36</td>\n",
       "      <td>3.479399e+07</td>\n",
       "      <td>30896577.34</td>\n",
       "      <td>34305180.56</td>\n",
       "      <td>35701473.15</td>\n",
       "      <td>3.940505e+07</td>\n",
       "      <td>43984702.05</td>\n",
       "      <td>4.657350e+09</td>\n",
       "    </tr>\n",
       "    <tr>\n",
       "      <th>26</th>\n",
       "      <td>53 Distrito Federal</td>\n",
       "      <td>4745919.19</td>\n",
       "      <td>7632480.67</td>\n",
       "      <td>9647203.26</td>\n",
       "      <td>11098732.99</td>\n",
       "      <td>12891719.72</td>\n",
       "      <td>12850125.67</td>\n",
       "      <td>12565646.74</td>\n",
       "      <td>13710857.89</td>\n",
       "      <td>13165106.20</td>\n",
       "      <td>...</td>\n",
       "      <td>18769437.77</td>\n",
       "      <td>22341629.09</td>\n",
       "      <td>20643441.06</td>\n",
       "      <td>2.294716e+07</td>\n",
       "      <td>21536505.16</td>\n",
       "      <td>19058243.91</td>\n",
       "      <td>22704335.27</td>\n",
       "      <td>2.526977e+07</td>\n",
       "      <td>26526196.39</td>\n",
       "      <td>2.429933e+09</td>\n",
       "    </tr>\n",
       "  </tbody>\n",
       "</table>\n",
       "<p>5 rows × 154 columns</p>\n",
       "</div>"
      ],
      "text/plain": [
       "     Unidade da Federação     2008/Jan     2008/Fev     2008/Mar     2008/Abr  \\\n",
       "22   43 Rio Grande do Sul  30931325.46  57363420.01  51547794.07  56673338.49   \n",
       "23  50 Mato Grosso do Sul   5377392.11   7002472.61   8423933.19   8797487.68   \n",
       "24         51 Mato Grosso   4795299.01   8684882.23   7886243.14   8794109.79   \n",
       "25               52 Goiás  15310637.29  22258668.68  21442515.75  20921212.45   \n",
       "26    53 Distrito Federal   4745919.19   7632480.67   9647203.26  11098732.99   \n",
       "\n",
       "       2008/Mai     2008/Jun     2008/Jul     2008/Ago     2008/Set  ...  \\\n",
       "22  48397733.07  52413429.62  56636376.98  56113054.70  55356224.30  ...   \n",
       "23   9770421.80  10905392.18  10249299.82   9671553.45  10218511.05  ...   \n",
       "24   9231645.40  10221763.77   9163314.28   9243148.81   9052354.89  ...   \n",
       "25  21615970.67  18270043.87  20540517.13  20650730.67  20868443.56  ...   \n",
       "26  12891719.72  12850125.67  12565646.74  13710857.89  13165106.20  ...   \n",
       "\n",
       "       2019/Dez     2020/Jan     2020/Fev      2020/Mar     2020/Abr  \\\n",
       "22  90775418.13  94908336.74  91437940.91  1.028761e+08  83000318.02   \n",
       "23  17895244.76  18115134.64  19542439.88  1.903279e+07  17410262.53   \n",
       "24  15029205.51  15249241.20  15046851.63  1.488682e+07  12546999.04   \n",
       "25  34873099.14  35775375.69  35005746.36  3.479399e+07  30896577.34   \n",
       "26  18769437.77  22341629.09  20643441.06  2.294716e+07  21536505.16   \n",
       "\n",
       "       2020/Mai     2020/Jun      2020/Jul      2020/Ago         Total  \n",
       "22  82381774.95  86051002.13  1.005310e+08  101374341.51  1.195865e+10  \n",
       "23  17913161.92  17331445.92  1.875556e+07   19241624.02  2.172158e+09  \n",
       "24  13604225.34  13151005.63  1.637164e+07   17790649.87  2.036924e+09  \n",
       "25  34305180.56  35701473.15  3.940505e+07   43984702.05  4.657350e+09  \n",
       "26  19058243.91  22704335.27  2.526977e+07   26526196.39  2.429933e+09  \n",
       "\n",
       "[5 rows x 154 columns]"
      ]
     },
     "execution_count": 3,
     "metadata": {},
     "output_type": "execute_result"
    }
   ],
   "source": [
    "dados.tail() #exibir as 5 ultimas linhas"
   ]
  },
  {
   "cell_type": "code",
   "execution_count": 4,
   "metadata": {},
   "outputs": [
    {
     "name": "stdout",
     "output_type": "stream",
     "text": [
      "<class 'pandas.core.frame.DataFrame'>\n",
      "RangeIndex: 27 entries, 0 to 26\n",
      "Columns: 154 entries, Unidade da Federação to Total\n",
      "dtypes: float64(151), object(3)\n",
      "memory usage: 32.6+ KB\n"
     ]
    }
   ],
   "source": [
    "dados.info() #informações sobre a tabela"
   ]
  },
  {
   "cell_type": "code",
   "execution_count": 5,
   "metadata": {},
   "outputs": [
    {
     "data": {
      "text/plain": [
       "2008/Jan    1.512685e+07\n",
       "2008/Fev    2.271016e+07\n",
       "2008/Mar    2.459419e+07\n",
       "2008/Abr    2.543196e+07\n",
       "2008/Mai    2.651125e+07\n",
       "                ...     \n",
       "2020/Abr    4.101366e+07\n",
       "2020/Mai    4.419363e+07\n",
       "2020/Jun    4.732999e+07\n",
       "2020/Jul    5.449551e+07\n",
       "Total       5.993732e+09\n",
       "Length: 151, dtype: float64"
      ]
     },
     "execution_count": 5,
     "metadata": {},
     "output_type": "execute_result"
    }
   ],
   "source": [
    "dados.mean() #valor da média de cada mês"
   ]
  },
  {
   "cell_type": "markdown",
   "metadata": {},
   "source": [
    "Vemos que a importação dos dados está em notação científica, podemos tratar este dado para melhor visualização"
   ]
  },
  {
   "cell_type": "code",
   "execution_count": 6,
   "metadata": {},
   "outputs": [],
   "source": [
    "pd.options.display.float_format = \"{:.2f}\".format #ajuste do formato para amostragem dos dados"
   ]
  },
  {
   "cell_type": "code",
   "execution_count": 7,
   "metadata": {},
   "outputs": [
    {
     "data": {
      "text/plain": [
       "2008/Jan     15126846.64\n",
       "2008/Fev     22710158.12\n",
       "2008/Mar     24594187.35\n",
       "2008/Abr     25431957.83\n",
       "2008/Mai     26511245.91\n",
       "                ...     \n",
       "2020/Abr     41013660.39\n",
       "2020/Mai     44193633.75\n",
       "2020/Jun     47329994.46\n",
       "2020/Jul     54495511.57\n",
       "Total      5993731798.30\n",
       "Length: 151, dtype: float64"
      ]
     },
     "execution_count": 7,
     "metadata": {},
     "output_type": "execute_result"
    }
   ],
   "source": [
    "dados.mean() #nova exibição da média com o formato ajustado"
   ]
  },
  {
   "cell_type": "code",
   "execution_count": 8,
   "metadata": {},
   "outputs": [
    {
     "data": {
      "text/plain": [
       "<AxesSubplot:xlabel='Unidade da Federação'>"
      ]
     },
     "execution_count": 8,
     "metadata": {},
     "output_type": "execute_result"
    },
    {
     "data": {
      "image/png": "[encoded data removed]",
      "text/plain": [
       "<Figure size 648x432 with 1 Axes>"
      ]
     },
     "metadata": {
      "needs_background": "light"
     },
     "output_type": "display_data"
    }
   ],
   "source": [
    "dados.plot(x = \"Unidade da Federação\", y = \"2008/Ago\", kind=\"bar\", figsize=(9,6))"
   ]
  },
  {
   "cell_type": "markdown",
   "metadata": {},
   "source": [
    "O gráfico trás uma representação dos gastos do SUS de agosto de 2008 de cada estado em fórma de gráfico em barra. O gráfico está \"cru\", não passando a informação que deveria da forma mais clara possível. Podemos utilizar bibliotecas do MatplotLib para deixa-lo mais claro"
   ]
  },
  {
   "cell_type": "code",
   "execution_count": 9,
   "metadata": {},
   "outputs": [
    {
     "data": {
      "text/plain": [
       "Text(0.5, 1.0, 'Valor por unidade da federação')"
      ]
     },
     "execution_count": 9,
     "metadata": {},
     "output_type": "execute_result"
    },
    {
     "data": {
      "image/png": "[encoded data removed]",
      "text/plain": [
       "<Figure size 648x432 with 1 Axes>"
      ]
     },
     "metadata": {
      "needs_background": "light"
     },
     "output_type": "display_data"
    }
   ],
   "source": [
    "import matplotlib.pyplot as plt\n",
    "import matplotlib.ticker as ticker\n",
    "\n",
    "ax = dados.plot(x = \"Unidade da Federação\", y = \"2008/Ago\", kind=\"bar\", figsize=(9,6))\n",
    "ax.yaxis.set_major_formatter(ticker.StrMethodFormatter(\"{x:,.2f}\"))\n",
    "\n",
    "plt.title(\"Valor por unidade da federação\") "
   ]
  },
  {
   "cell_type": "markdown",
   "metadata": {},
   "source": [
    "Melhoramos em relação ao gráfico anterior informando:\n",
    "- Um Título;\n",
    "- Utilizando Ticker para formatação dos valores exibidos"
   ]
  },
  {
   "cell_type": "markdown",
   "metadata": {},
   "source": [
    "#### Desafios Aula 01:\n",
    "1. Alterar o título para um que traga mais informações para o usuário\n",
    "2. Realizar a mesma análise para o mês mais recente, trazendo quaisquer melhorias que achar interessante para o gráfico "
   ]
  },
  {
   "cell_type": "markdown",
   "metadata": {},
   "source": [
    "Para melhorar o gráfico, podemos retirar o UF dos estados, considerando que ja estamos exibindo o seu nome, a informação não trás beneficios e deixa o gráfico mais sujo."
   ]
  },
  {
   "cell_type": "code",
   "execution_count": 10,
   "metadata": {},
   "outputs": [
    {
     "data": {
      "text/plain": [
       "0                Rondônia\n",
       "1                    Acre\n",
       "2                Amazonas\n",
       "3                 Roraima\n",
       "4                    Pará\n",
       "5                   Amapá\n",
       "6               Tocantins\n",
       "7                Maranhão\n",
       "8                   Piauí\n",
       "9                   Ceará\n",
       "10    Rio Grande do Norte\n",
       "11                Paraíba\n",
       "12             Pernambuco\n",
       "13                Alagoas\n",
       "14                Sergipe\n",
       "15                  Bahia\n",
       "16           Minas Gerais\n",
       "17         Espírito Santo\n",
       "18         Rio de Janeiro\n",
       "19              São Paulo\n",
       "20                 Paraná\n",
       "21         Santa Catarina\n",
       "22      Rio Grande do Sul\n",
       "23     Mato Grosso do Sul\n",
       "24            Mato Grosso\n",
       "25                  Goiás\n",
       "26       Distrito Federal\n",
       "Name: Unidade da Federação, dtype: object"
      ]
     },
     "execution_count": 10,
     "metadata": {},
     "output_type": "execute_result"
    }
   ],
   "source": [
    "dados[\"Unidade da Federação\"] = dados[\"Unidade da Federação\"].str.slice(3)\n",
    "dados[\"Unidade da Federação\"]"
   ]
  },
  {
   "cell_type": "code",
   "execution_count": 11,
   "metadata": {},
   "outputs": [
    {
     "data": {
      "text/plain": [
       "0      10285455.78\n",
       "1                -\n",
       "2      14726443.67\n",
       "3       2826486.18\n",
       "4      39911193.02\n",
       "5       2942273.94\n",
       "6       8240261.38\n",
       "7      28587541.78\n",
       "8      23210624.20\n",
       "9      59808605.59\n",
       "10     24929930.72\n",
       "11     22130016.81\n",
       "12     75704177.72\n",
       "13     19754741.78\n",
       "14     11014180.89\n",
       "15     80793117.08\n",
       "16    168024412.95\n",
       "17     32188873.88\n",
       "18     95274486.35\n",
       "19    346512263.17\n",
       "20    129375911.54\n",
       "21     63972379.36\n",
       "22    101374341.51\n",
       "23     19241624.02\n",
       "24     17790649.87\n",
       "25     43984702.05\n",
       "26     26526196.39\n",
       "Name: 2020/Ago, dtype: object"
      ]
     },
     "execution_count": 11,
     "metadata": {},
     "output_type": "execute_result"
    }
   ],
   "source": [
    "gastosAgo2020 = dados[\"2020/Ago\"]\n",
    "gastosAgo2020"
   ]
  },
  {
   "cell_type": "markdown",
   "metadata": {},
   "source": [
    "Podemos ver que existe um valor vazio na linha de indice 1, que nos impede de plotar um gráfico significativo para esses valores, podemos tratar este dado vazio substituindo-o pela média ou mediana do estado do Acre, que pela tabela anterior percebemos que tem indice 1."
   ]
  },
  {
   "cell_type": "code",
   "execution_count": 29,
   "metadata": {},
   "outputs": [
    {
     "data": {
      "text/plain": [
       "1   5571762.11\n",
       "dtype: float64"
      ]
     },
     "execution_count": 29,
     "metadata": {},
     "output_type": "execute_result"
    }
   ],
   "source": [
    "dados[dados[\"Unidade da Federação\"] == 'Acre'].mean(axis = 1) #Media do Acre"
   ]
  },
  {
   "cell_type": "code",
   "execution_count": 30,
   "metadata": {},
   "outputs": [
    {
     "data": {
      "text/plain": [
       "0    10285455.78\n",
       "1     5571762.11\n",
       "2    14726443.67\n",
       "3     2826486.18\n",
       "4    39911193.02\n",
       "Name: 2020/Ago, dtype: object"
      ]
     },
     "execution_count": 30,
     "metadata": {},
     "output_type": "execute_result"
    }
   ],
   "source": [
    "gastosAgo2020.replace(\"-\", 5571762.11, inplace = True)\n",
    "dados[\"2020/Ago\"] = dados[\"2020/Ago\"].astype('float64') #transformar os valores para float\n",
    "gastosAgo2020.head()"
   ]
  },
  {
   "cell_type": "markdown",
   "metadata": {},
   "source": [
    "Agora podemos Realizar nossa projeção gráfica."
   ]
  },
  {
   "cell_type": "code",
   "execution_count": 38,
   "metadata": {},
   "outputs": [
    {
     "data": {
      "image/png": "[encoded data removed]",
      "text/plain": [
       "<Figure size 864x504 with 1 Axes>"
      ]
     },
     "metadata": {
      "needs_background": "light"
     },
     "output_type": "display_data"
    }
   ],
   "source": [
    "ax = dados.sort_values(by = '2020/Ago').plot(x = \"Unidade da Federação\", y = \"2020/Ago\",\n",
    "                                            kind = \"bar\",color = \"#000080\" ,figsize = (12,7))\n",
    "plt.grid(color='c', linestyle='-', linewidth=0.5, axis = 'y')\n",
    "ax.yaxis.set_major_formatter(ticker.StrMethodFormatter(\"{x:,.2f}\"))\n",
    "plt.xlabel(\"Unidades Federativas Brasileiras\", fontdict={'fontsize': 12})\n",
    "plt.ylabel(\"Valor Gasto em Reais(R$)\", fontdict={'fontsize': 12})\n",
    "plt.title(\"Valor Gasto pelo SUS com procedimentos hospitalarem em Agosto de 2020 por Unidade Federativa\")\n",
    "plt.show()"
   ]
  },
  {
   "cell_type": "markdown",
   "metadata": {},
   "source": [
    "#### Lições aprendidas na Aula 01:\n",
    "- Como utilizar o Tabnet para busca de dados da saúde Brasileira;\n",
    "- Como utilizar o google Colaboratory;\n",
    "- Como ler um arquivo CSV com Pandas;\n",
    "- Como ler um arquivo CSV com caracteres especiais;\n",
    "- Como ignorar o cabeçalho de um arquivo CSV;\n",
    "- O que são DataFrames;\n",
    "- Desafios de ler arquivos reais;\n",
    "- Como formatar a impressão dos dados de um DataFr"
   ]
  }
 ],
 "metadata": {
  "kernelspec": {
   "display_name": "Python 3",
   "language": "python",
   "name": "python3"
  },
  "language_info": {
   "codemirror_mode": {
    "name": "ipython",
    "version": 3
   },
   "file_extension": ".py",
   "mimetype": "text/x-python",
   "name": "python",
   "nbconvert_exporter": "python",
   "pygments_lexer": "ipython3",
   "version": "3.8.5"
  }
 },
 "nbformat": 4,
 "nbformat_minor": 4
}
